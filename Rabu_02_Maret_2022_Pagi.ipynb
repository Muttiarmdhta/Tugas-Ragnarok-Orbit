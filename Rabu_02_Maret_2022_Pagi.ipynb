{
 "cells": [
  {
   "cell_type": "markdown",
   "id": "35918c59",
   "metadata": {},
   "source": [
    "# FGD sesi pagi"
   ]
  },
  {
   "cell_type": "markdown",
   "id": "307234cc",
   "metadata": {},
   "source": [
    "No. 1\n",
    "\n",
    "1. False\n",
    "2. True\n",
    "3. True\n",
    "4. True\n",
    "5. False"
   ]
  },
  {
   "cell_type": "code",
   "execution_count": 14,
   "id": "e92e423d",
   "metadata": {},
   "outputs": [
    {
     "name": "stdout",
     "output_type": "stream",
     "text": [
      "Enter something: bulan\n",
      "Hello!\n",
      "You entered: bulan\n"
     ]
    }
   ],
   "source": [
    "# No 2.\n",
    "something = input ('Enter something: ')\n",
    "print ('Hello!')\n",
    "print ('You entered:', something)"
   ]
  },
  {
   "cell_type": "code",
   "execution_count": 16,
   "id": "252d4f17",
   "metadata": {},
   "outputs": [
    {
     "name": "stdout",
     "output_type": "stream",
     "text": [
      "hello!\n",
      "Enter something:hi\n",
      "you entered: bulan\n"
     ]
    }
   ],
   "source": [
    "# No. 3\n",
    "print ('hello!')\n",
    "something == input('Enter something:')\n",
    "print ('you entered:', something)"
   ]
  },
  {
   "cell_type": "code",
   "execution_count": 21,
   "id": "56ab9cca",
   "metadata": {},
   "outputs": [
    {
     "name": "stdout",
     "output_type": "stream",
     "text": [
      "Hello !\n",
      "Enter something: hi\n",
      "Hi there !\n"
     ]
    }
   ],
   "source": [
    "# No. 4\n",
    "print('Hello !')\n",
    "something = input(\"Enter something: \")\n",
    "if something == 'hello':\n",
    "    print(\"Hello for you too!\")\n",
    "elif something == 'hi':\n",
    "    print('Hi there !')\n",
    "else :\n",
    "    print(\"I don't know what\", something, \" means.\")"
   ]
  },
  {
   "cell_type": "code",
   "execution_count": 22,
   "id": "7f08eb68",
   "metadata": {},
   "outputs": [
    {
     "name": "stdout",
     "output_type": "stream",
     "text": [
      "Hello Hai\n",
      "Hello Hai\n",
      "Hello Hai\n",
      "Hello Hai\n",
      "Hello Hai\n",
      "Hello Hai\n",
      "Hello Hai\n",
      "Hello Hai\n",
      "Hello Hai\n",
      "Hello Hai\n",
      "Hello Hai\n",
      "Hello Hai\n",
      "Hello Hai\n",
      "Hello Hai\n",
      "Hello Hai\n",
      "Hello Hai\n",
      "Hello Hai\n",
      "Hello Hai\n",
      "Hello Hai\n",
      "Hello Hai\n",
      "Hello Hai\n",
      "Hello Hai\n",
      "Hello Hai\n",
      "Hello Hai\n",
      "Hello Hai\n",
      "Hello Hai\n",
      "Hello Hai\n",
      "Hello Hai\n",
      "Hello Hai\n",
      "Hello Hai\n",
      "Hello Hai\n",
      "Hello Hai\n",
      "Hello Hai\n",
      "Hello Hai\n",
      "Hello Hai\n",
      "Hello Hai\n",
      "Hello Hai\n",
      "Hello Hai\n",
      "Hello Hai\n",
      "Hello Hai\n",
      "Hello Hai\n",
      "Hello Hai\n",
      "Hello Hai\n",
      "Hello Hai\n",
      "Hello Hai\n",
      "Hello Hai\n",
      "Hello Hai\n",
      "Hello Hai\n",
      "Hello Hai\n",
      "Hello Hai\n",
      "Hello Hai\n",
      "Hello Hai\n",
      "Hello Hai\n",
      "Hello Hai\n",
      "Hello Hai\n",
      "Hello Hai\n",
      "Hello Hai\n",
      "Hello Hai\n",
      "Hello Hai\n",
      "Hello Hai\n",
      "Hello Hai\n",
      "Hello Hai\n",
      "Hello Hai\n",
      "Hello Hai\n",
      "Hello Hai\n",
      "Hello Hai\n",
      "Hello Hai\n",
      "Hello Hai\n",
      "Hello Hai\n",
      "Hello Hai\n",
      "Hello Hai\n",
      "Hello Hai\n",
      "Hello Hai\n",
      "Hello Hai\n",
      "Hello Hai\n",
      "Hello Hai\n",
      "Hello Hai\n",
      "Hello Hai\n",
      "Hello Hai\n",
      "Hello Hai\n",
      "Hello Hai\n",
      "Hello Hai\n",
      "Hello Hai\n",
      "Hello Hai\n",
      "Hello Hai\n",
      "Hello Hai\n",
      "Hello Hai\n",
      "Hello Hai\n",
      "Hello Hai\n",
      "Hello Hai\n",
      "Hello Hai\n",
      "Hello Hai\n",
      "Hello Hai\n",
      "Hello Hai\n",
      "Hello Hai\n",
      "Hello Hai\n",
      "Hello Hai\n",
      "Hello Hai\n",
      "Hello Hai\n",
      "Hello Hai\n"
     ]
    }
   ],
   "source": [
    "# No. 5\n",
    "for k in range(0,100):\n",
    "    print('Hello Hai')"
   ]
  },
  {
   "cell_type": "code",
   "execution_count": 29,
   "id": "429fd7fe",
   "metadata": {},
   "outputs": [
    {
     "name": "stdout",
     "output_type": "stream",
     "text": [
      "Masukkan Player 1: batu\n",
      "Masukkan Player 2: batu\n",
      "Draw!\n"
     ]
    }
   ],
   "source": [
    "# No. 5\n",
    "\n",
    "Player1 = input(\"Masukkan Player 1: \")\n",
    "Player2 = input(\"Masukkan Player 2: \")\n",
    "if (Player1 == 'batu') and (Player2 == 'batu'):\n",
    "    print(\"Draw!\")\n",
    "elif (Player1 == 'batu') and (Player2 == 'kertas'):\n",
    "    print(\"Player 2 Wins!\")\n",
    "elif (Player1 == 'batu') and (Player2 == 'gunting'):\n",
    "    print(\"Player 1 Wins!\")\n",
    "elif (Player1 == 'gunting') and (Player2 == 'gunting'):\n",
    "    print(\"Draw!\")\n",
    "elif (Player1 == 'gunting') and (Player2 == 'batu'):\n",
    "    print(\"Player 2 Wins!\")\n",
    "elif (Player1 == 'gunting') and (Player2 == 'kertas'):\n",
    "    print(\"Player 1 Wins!\")\n",
    "elif (Player1 == 'kertas') and (Player2 == 'kertas'):\n",
    "    print(\"Draw!\")\n",
    "elif (Player1 == 'kertas') and (Player2 == 'batu'):\n",
    "    print(\"Player 1 Wins!\")\n",
    "elif (Player1 == 'kertas') and (Player2 == 'gunting'):\n",
    "    print(\"Player 2 Wins!\")\n",
    "else:\n",
    "    print(\"Input tidak valid!. Gunakan “batu”, “ gunting” dan “kertas” tanpa tanda kutip!\")"
   ]
  },
  {
   "cell_type": "code",
   "execution_count": 32,
   "id": "2f72e079",
   "metadata": {},
   "outputs": [
    {
     "name": "stdout",
     "output_type": "stream",
     "text": [
      "Masukkan kata: Indonesia\n",
      "Masukkan kata: Korea\n",
      "Masukkan kata: Dubai\n",
      "Masukkan kata: Swis\n",
      "Masukkan kata: Stop\n",
      "Perulangan Berakhir\n"
     ]
    }
   ],
   "source": [
    "# No. 6\n",
    "while True:\n",
    "    kata = input('Masukkan kata: ')\n",
    "    if kata == 'Stop':\n",
    "        break\n",
    "print('Perulangan Berakhir')"
   ]
  },
  {
   "cell_type": "code",
   "execution_count": null,
   "id": "441c67a3",
   "metadata": {},
   "outputs": [],
   "source": [
    "# No. 7\n",
    "def menu():\n",
    "    print ('MENU JAJANAN PASAR')\n",
    "    print ('1. Donat     -   Rp 1250')\n",
    "    print ('2. Bakwan    -   Rp 1000')\n",
    "    print ('3. Onde-onde -   Rp 800')\n",
    "    print ('4. Lemper    -   Rp 1250')\n",
    "  \n",
    "pesan=input('Masukkan nama anda = ')\n",
    "while (pesan != 'cukup'):\n",
    "    user= input('Apa yang ingin anda pesan = ')\n",
    "    if user=='1':\n",
    "        print('Anda memesan Donat seharga Rp 1.250')\n",
    "    elif user=='2':\n",
    "        print('Anda memesan Bakwan seharga Rp 1.000')\n",
    "    elif user=='3':\n",
    "        print('Anda memesan Onde-onde seharga Rp 800')\n",
    "    elif user=='4':\n",
    "        print('Anda memesan Lemper seharga Rp 1.250')     \n",
    "        print ('Terimakasih telah berbelanja jajanan kami:)')"
   ]
  },
  {
   "cell_type": "code",
   "execution_count": null,
   "id": "5c289b8d",
   "metadata": {},
   "outputs": [],
   "source": []
  }
 ],
 "metadata": {
  "kernelspec": {
   "display_name": "Python 3 (ipykernel)",
   "language": "python",
   "name": "python3"
  },
  "language_info": {
   "codemirror_mode": {
    "name": "ipython",
    "version": 3
   },
   "file_extension": ".py",
   "mimetype": "text/x-python",
   "name": "python",
   "nbconvert_exporter": "python",
   "pygments_lexer": "ipython3",
   "version": "3.9.7"
  }
 },
 "nbformat": 4,
 "nbformat_minor": 5
}
