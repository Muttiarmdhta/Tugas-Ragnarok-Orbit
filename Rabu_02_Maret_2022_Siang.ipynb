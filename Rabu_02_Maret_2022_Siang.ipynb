{
 "cells": [
  {
   "cell_type": "markdown",
   "id": "75b75e33",
   "metadata": {},
   "source": [
    "# FGD sesi siang"
   ]
  },
  {
   "cell_type": "code",
   "execution_count": 7,
   "id": "3f4a0217",
   "metadata": {},
   "outputs": [
    {
     "name": "stdout",
     "output_type": "stream",
     "text": [
      "Input m : 2\n",
      "Input n : 4\n",
      "m not divisible by n\n"
     ]
    }
   ],
   "source": [
    "# no. 1\n",
    "def isDivisible(m,n):\n",
    "    if(m%n == 0):\n",
    "        return True\n",
    "    else:\n",
    "        return False\n",
    "x = input(\"Input m : \")\n",
    "y = input(\"Input n : \")\n",
    "if(isDivisible(int(x),int(y))):\n",
    "    print(\"m divisible by n\")\n",
    "else:\n",
    "    print(\"m not divisible by n\")\n"
   ]
  },
  {
   "cell_type": "code",
   "execution_count": 16,
   "id": "7c51d9c2",
   "metadata": {},
   "outputs": [
    {
     "name": "stdout",
     "output_type": "stream",
     "text": [
      "Daftar Menu: \n",
      "1. Soup and Salad\n",
      "2. Pasta with Meat Sauce\n",
      "3. Chef's Special\n",
      "\n",
      "Which number would you like to order = 3\n",
      "Chef's Special coming right up!\n"
     ]
    }
   ],
   "source": [
    "# No. 2\n",
    "print(\"Daftar Menu: \")\n",
    "print(\"1. Soup and Salad\")\n",
    "print(\"2. Pasta with Meat Sauce\")\n",
    "print(\"3. Chef's Special\")\n",
    "\n",
    "print(\"\")\n",
    "order = int(input(\"Which number would you like to order = \"))\n",
    "    \n",
    "if order == 1:\n",
    "    print(\"Soup and Salad coming right up!\")\n",
    "elif order == 2:\n",
    "    print(\"Pasta with Meat Sauce coming right up!\")\n",
    "elif order == 3:\n",
    "    print(\"Chef's Special coming right up!\")\n",
    "else:\n",
    "    print(\"Sorry, that is not a valid choice\")\n",
    "      "
   ]
  },
  {
   "cell_type": "code",
   "execution_count": 22,
   "id": "4ce99f6a",
   "metadata": {},
   "outputs": [
    {
     "name": "stdout",
     "output_type": "stream",
     "text": [
      "Masukkan angka: 3\n",
      "True\n"
     ]
    }
   ],
   "source": [
    "# No.3\n",
    "def rand_divis_3():\n",
    "\n",
    "    m = int(input(\"Masukkan angka: \"))\n",
    "    if m % 3 == 0:\n",
    "        return True\n",
    "    else:\n",
    "        return False\n",
    "    \n",
    "print(rand_divis_3())"
   ]
  },
  {
   "cell_type": "code",
   "execution_count": 29,
   "id": "0e66df16",
   "metadata": {},
   "outputs": [
    {
     "name": "stdout",
     "output_type": "stream",
     "text": [
      "masukan angka pertama3\n",
      "masukan angka kedua2\n",
      "angka tidak sama\n"
     ]
    }
   ],
   "source": [
    "#no. 4\n",
    "def cek_angka(a=int(input(\"masukan angka pertama\")),b=int(input(\"masukan angka kedua\"))):\n",
    "    if a==b:\n",
    "        print(\"angka sama\")\n",
    "    else:\n",
    "        print(\"angka tidak sama\")\n",
    "\n",
    "result=cek_angka()  "
   ]
  },
  {
   "cell_type": "code",
   "execution_count": 31,
   "id": "e2954bf1",
   "metadata": {},
   "outputs": [
    {
     "name": "stdout",
     "output_type": "stream",
     "text": [
      "Enter your name: Mutti\n",
      "Your name is: Mutti\n"
     ]
    }
   ],
   "source": [
    "# No. 5\n",
    "def ask_name():\n",
    "    name = input(\"Enter your name: \")\n",
    "    print (\"Your name is: \" + name)\n",
    "\n",
    "ask_name()\n"
   ]
  },
  {
   "cell_type": "markdown",
   "id": "cee2a652",
   "metadata": {},
   "source": []
  }
 ],
 "metadata": {
  "kernelspec": {
   "display_name": "Python 3 (ipykernel)",
   "language": "python",
   "name": "python3"
  },
  "language_info": {
   "codemirror_mode": {
    "name": "ipython",
    "version": 3
   },
   "file_extension": ".py",
   "mimetype": "text/x-python",
   "name": "python",
   "nbconvert_exporter": "python",
   "pygments_lexer": "ipython3",
   "version": "3.9.7"
  }
 },
 "nbformat": 4,
 "nbformat_minor": 5
}
