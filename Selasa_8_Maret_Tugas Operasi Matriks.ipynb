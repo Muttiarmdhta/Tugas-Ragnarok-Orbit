{
 "cells": [
  {
   "cell_type": "code",
   "execution_count": 2,
   "id": "62b3fabf",
   "metadata": {},
   "outputs": [],
   "source": [
    "import numpy as np"
   ]
  },
  {
   "cell_type": "code",
   "execution_count": 3,
   "id": "760c4cec",
   "metadata": {},
   "outputs": [],
   "source": [
    "A = np.array([[1, 2], [7,8]])\n",
    "B = np.array([[3, 5], [1,6]])"
   ]
  },
  {
   "cell_type": "markdown",
   "id": "8d4b819f",
   "metadata": {},
   "source": [
    "# Hitunglah:\n",
    "\n",
    "1. 2*A\n",
    "2. 2+A\n",
    "3. A+B\n",
    "4. A-B\n",
    "5. determinan A\n",
    "6. invers dari B, simpan jadi matriks D\n",
    "7. transpose D\n",
    "8. nilai eigen dan vektor eigen dari A dan B"
   ]
  },
  {
   "cell_type": "markdown",
   "id": "302921a6",
   "metadata": {},
   "source": [
    "# 1. 2*A"
   ]
  },
  {
   "cell_type": "code",
   "execution_count": 4,
   "id": "efd41fdc",
   "metadata": {},
   "outputs": [
    {
     "name": "stdout",
     "output_type": "stream",
     "text": [
      "[[ 2  4]\n",
      " [14 16]]\n"
     ]
    }
   ],
   "source": [
    "print (2*A)"
   ]
  },
  {
   "cell_type": "markdown",
   "id": "4ad5d492",
   "metadata": {},
   "source": [
    "# 2. 2+A"
   ]
  },
  {
   "cell_type": "code",
   "execution_count": 5,
   "id": "dc55f29d",
   "metadata": {},
   "outputs": [
    {
     "name": "stdout",
     "output_type": "stream",
     "text": [
      "[[ 3  4]\n",
      " [ 9 10]]\n"
     ]
    }
   ],
   "source": [
    "print (2+A)"
   ]
  },
  {
   "cell_type": "markdown",
   "id": "99d78129",
   "metadata": {},
   "source": [
    "# 3. A+B "
   ]
  },
  {
   "cell_type": "code",
   "execution_count": 6,
   "id": "bfe2419f",
   "metadata": {},
   "outputs": [
    {
     "name": "stdout",
     "output_type": "stream",
     "text": [
      "[[5 7]\n",
      " [3 8]]\n"
     ]
    }
   ],
   "source": [
    "print (2+B)"
   ]
  },
  {
   "cell_type": "markdown",
   "id": "7ceb3635",
   "metadata": {},
   "source": [
    "# 4. A-B"
   ]
  },
  {
   "cell_type": "code",
   "execution_count": 7,
   "id": "be61f975",
   "metadata": {},
   "outputs": [
    {
     "name": "stdout",
     "output_type": "stream",
     "text": [
      "[[-2 -3]\n",
      " [ 6  2]]\n"
     ]
    }
   ],
   "source": [
    "print (A-B)"
   ]
  },
  {
   "cell_type": "markdown",
   "id": "5303076f",
   "metadata": {},
   "source": [
    "# 5. determinan A"
   ]
  },
  {
   "cell_type": "code",
   "execution_count": 8,
   "id": "9f0449c9",
   "metadata": {},
   "outputs": [
    {
     "name": "stdout",
     "output_type": "stream",
     "text": [
      "Determinan Matriks A =  -6.0\n"
     ]
    }
   ],
   "source": [
    "print(\"Determinan Matriks A = \", np.linalg.det(A))"
   ]
  },
  {
   "cell_type": "markdown",
   "id": "0af331af",
   "metadata": {},
   "source": [
    "# 6. Invers dari B, simpan jadi Matriks D"
   ]
  },
  {
   "cell_type": "code",
   "execution_count": 9,
   "id": "770c43c0",
   "metadata": {},
   "outputs": [],
   "source": [
    "D = np.linalg.inv(B)"
   ]
  },
  {
   "cell_type": "code",
   "execution_count": 10,
   "id": "8034ee9b",
   "metadata": {},
   "outputs": [
    {
     "data": {
      "text/plain": [
       "array([[ 0.46153846, -0.38461538],\n",
       "       [-0.07692308,  0.23076923]])"
      ]
     },
     "execution_count": 10,
     "metadata": {},
     "output_type": "execute_result"
    }
   ],
   "source": [
    "D"
   ]
  },
  {
   "cell_type": "markdown",
   "id": "a6274b36",
   "metadata": {},
   "source": [
    "# 7. Transpose D"
   ]
  },
  {
   "cell_type": "code",
   "execution_count": 11,
   "id": "9b3044af",
   "metadata": {},
   "outputs": [],
   "source": [
    "transpose_matriks = np.transpose(D)"
   ]
  },
  {
   "cell_type": "code",
   "execution_count": 13,
   "id": "c13d6d8a",
   "metadata": {},
   "outputs": [
    {
     "data": {
      "text/plain": [
       "array([[ 0.46153846, -0.07692308],\n",
       "       [-0.38461538,  0.23076923]])"
      ]
     },
     "execution_count": 13,
     "metadata": {},
     "output_type": "execute_result"
    }
   ],
   "source": [
    "transpose_matriks"
   ]
  },
  {
   "cell_type": "markdown",
   "id": "65e63846",
   "metadata": {},
   "source": [
    "# 8. Nilai Eigen dan Vektor Eigen dari A dan B"
   ]
  },
  {
   "cell_type": "code",
   "execution_count": 14,
   "id": "b91ea6c9",
   "metadata": {},
   "outputs": [],
   "source": [
    "eig_val, eig_vecs = np.linalg.eig(A)"
   ]
  },
  {
   "cell_type": "code",
   "execution_count": 18,
   "id": "5c545e26",
   "metadata": {},
   "outputs": [
    {
     "data": {
      "text/plain": [
       "array([-0.62347538,  9.62347538])"
      ]
     },
     "execution_count": 18,
     "metadata": {},
     "output_type": "execute_result"
    }
   ],
   "source": [
    "eig_val"
   ]
  },
  {
   "cell_type": "code",
   "execution_count": 20,
   "id": "c516b8b1",
   "metadata": {},
   "outputs": [
    {
     "data": {
      "text/plain": [
       "array([[-0.77640358, -0.22592838],\n",
       "       [ 0.63023605, -0.97414391]])"
      ]
     },
     "execution_count": 20,
     "metadata": {},
     "output_type": "execute_result"
    }
   ],
   "source": [
    "eig_vecs"
   ]
  },
  {
   "cell_type": "code",
   "execution_count": 21,
   "id": "e9df998e",
   "metadata": {},
   "outputs": [],
   "source": [
    "eig_val, eig_vecs = np.linalg.eig(B)"
   ]
  },
  {
   "cell_type": "code",
   "execution_count": 23,
   "id": "38fa344c",
   "metadata": {},
   "outputs": [
    {
     "data": {
      "text/plain": [
       "array([1.8074176, 7.1925824])"
      ]
     },
     "execution_count": 23,
     "metadata": {},
     "output_type": "execute_result"
    }
   ],
   "source": [
    "eig_val"
   ]
  },
  {
   "cell_type": "code",
   "execution_count": 25,
   "id": "1b266649",
   "metadata": {},
   "outputs": [
    {
     "data": {
      "text/plain": [
       "array([[-0.97271381, -0.76626443],\n",
       "       [ 0.23200828, -0.64252535]])"
      ]
     },
     "execution_count": 25,
     "metadata": {},
     "output_type": "execute_result"
    }
   ],
   "source": [
    "eig_vecs"
   ]
  },
  {
   "cell_type": "code",
   "execution_count": null,
   "id": "e67c5b7c",
   "metadata": {},
   "outputs": [],
   "source": []
  }
 ],
 "metadata": {
  "kernelspec": {
   "display_name": "Python 3 (ipykernel)",
   "language": "python",
   "name": "python3"
  },
  "language_info": {
   "codemirror_mode": {
    "name": "ipython",
    "version": 3
   },
   "file_extension": ".py",
   "mimetype": "text/x-python",
   "name": "python",
   "nbconvert_exporter": "python",
   "pygments_lexer": "ipython3",
   "version": "3.9.7"
  }
 },
 "nbformat": 4,
 "nbformat_minor": 5
}
