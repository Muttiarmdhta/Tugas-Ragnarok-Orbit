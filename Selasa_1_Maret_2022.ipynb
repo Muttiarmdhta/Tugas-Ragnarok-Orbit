{
 "cells": [
  {
   "cell_type": "code",
   "execution_count": 4,
   "id": "89d1fb99",
   "metadata": {},
   "outputs": [
    {
     "name": "stdout",
     "output_type": "stream",
     "text": [
      "New York\n"
     ]
    }
   ],
   "source": [
    "s = 'New York'\n",
    "print (s)"
   ]
  },
  {
   "cell_type": "code",
   "execution_count": 2,
   "id": "191e47c2",
   "metadata": {},
   "outputs": [
    {
     "name": "stdout",
     "output_type": "stream",
     "text": [
      "<class 'str'>\n"
     ]
    }
   ],
   "source": [
    "print (type(s))"
   ]
  },
  {
   "cell_type": "code",
   "execution_count": 3,
   "id": "7dce51e4",
   "metadata": {},
   "outputs": [
    {
     "name": "stdout",
     "output_type": "stream",
     "text": [
      "9\n"
     ]
    }
   ],
   "source": [
    "print (len(s)) # berapa panjang string"
   ]
  },
  {
   "cell_type": "code",
   "execution_count": 6,
   "id": "520c1b46",
   "metadata": {},
   "outputs": [
    {
     "name": "stdout",
     "output_type": "stream",
     "text": [
      "Hello World\n"
     ]
    }
   ],
   "source": [
    "# Assign s as a string\n",
    "s = 'Hello World'\n",
    "print (s)"
   ]
  },
  {
   "cell_type": "code",
   "execution_count": 8,
   "id": "24574666",
   "metadata": {},
   "outputs": [
    {
     "name": "stdout",
     "output_type": "stream",
     "text": [
      "H\n"
     ]
    }
   ],
   "source": [
    "# Show first element (in this case a letter)\n",
    "print (s[0])"
   ]
  },
  {
   "cell_type": "code",
   "execution_count": 9,
   "id": "ca837df0",
   "metadata": {},
   "outputs": [
    {
     "name": "stdout",
     "output_type": "stream",
     "text": [
      "e\n"
     ]
    }
   ],
   "source": [
    "# Show the second element (also a letter)\n",
    "print (s[1])"
   ]
  },
  {
   "cell_type": "code",
   "execution_count": 10,
   "id": "3e40dc75",
   "metadata": {},
   "outputs": [
    {
     "name": "stdout",
     "output_type": "stream",
     "text": [
      " \n"
     ]
    }
   ],
   "source": [
    "print (s[5])"
   ]
  },
  {
   "cell_type": "code",
   "execution_count": 11,
   "id": "7f629440",
   "metadata": {},
   "outputs": [
    {
     "name": "stdout",
     "output_type": "stream",
     "text": [
      "HelloWorld\n"
     ]
    }
   ],
   "source": [
    "s1 = 'Hello'\n",
    "s2 = 'World'\n",
    "print (s1 + s2)"
   ]
  },
  {
   "cell_type": "code",
   "execution_count": 12,
   "id": "0f8d285d",
   "metadata": {},
   "outputs": [
    {
     "name": "stdout",
     "output_type": "stream",
     "text": [
      "Hello World\n"
     ]
    }
   ],
   "source": [
    "print (s1 + \" \" + s2)"
   ]
  },
  {
   "cell_type": "code",
   "execution_count": 13,
   "id": "6a3a61c6",
   "metadata": {},
   "outputs": [
    {
     "name": "stdout",
     "output_type": "stream",
     "text": [
      "Hello_Hello_Hello_\n"
     ]
    }
   ],
   "source": [
    "# repetition (multiplication)\n",
    "print (\"Hello_\" * 3)"
   ]
  },
  {
   "cell_type": "code",
   "execution_count": 14,
   "id": "15d0c22c",
   "metadata": {},
   "outputs": [
    {
     "name": "stdout",
     "output_type": "stream",
     "text": [
      "__________\n"
     ]
    }
   ],
   "source": [
    "print (\"_\"*10)"
   ]
  },
  {
   "cell_type": "code",
   "execution_count": 15,
   "id": "c2272fce",
   "metadata": {},
   "outputs": [
    {
     "name": "stdout",
     "output_type": "stream",
     "text": [
      "Hello_Hello_Hello_Hello_Hello_Hello_Hello_Hello_Hello_Hello_\n"
     ]
    }
   ],
   "source": [
    "print (\"Hello_\" * 10)"
   ]
  },
  {
   "cell_type": "code",
   "execution_count": 16,
   "id": "9bc0e94e",
   "metadata": {},
   "outputs": [],
   "source": [
    "s = \"Namaste World\""
   ]
  },
  {
   "cell_type": "code",
   "execution_count": 17,
   "id": "8dd86d5e",
   "metadata": {},
   "outputs": [
    {
     "name": "stdout",
     "output_type": "stream",
     "text": [
      "a\n"
     ]
    }
   ],
   "source": [
    "# print sub strings\n",
    "print (s[1])"
   ]
  },
  {
   "cell_type": "code",
   "execution_count": 18,
   "id": "119d63a3",
   "metadata": {},
   "outputs": [
    {
     "name": "stdout",
     "output_type": "stream",
     "text": [
      "e Wor\n"
     ]
    }
   ],
   "source": [
    "print(s[6:11]) #This is known as slicing."
   ]
  },
  {
   "cell_type": "code",
   "execution_count": 19,
   "id": "e277695e",
   "metadata": {},
   "outputs": [
    {
     "name": "stdout",
     "output_type": "stream",
     "text": [
      "Worl\n"
     ]
    }
   ],
   "source": [
    "print (s[-5:-1])"
   ]
  },
  {
   "cell_type": "code",
   "execution_count": 20,
   "id": "1f100257",
   "metadata": {},
   "outputs": [
    {
     "name": "stdout",
     "output_type": "stream",
     "text": [
      "False\n"
     ]
    }
   ],
   "source": [
    "# test substring membership\n",
    "print (\"wor\" in s)"
   ]
  },
  {
   "cell_type": "code",
   "execution_count": 22,
   "id": "814489a6",
   "metadata": {},
   "outputs": [],
   "source": [
    "s = \"Hello World\""
   ]
  },
  {
   "cell_type": "code",
   "execution_count": 24,
   "id": "79eb2d72",
   "metadata": {},
   "outputs": [
    {
     "name": "stdout",
     "output_type": "stream",
     "text": [
      "HELLO WORLD\n"
     ]
    }
   ],
   "source": [
    "## Convert all the element of the string to Upper case..!!\n",
    "print (s.upper())"
   ]
  },
  {
   "cell_type": "code",
   "execution_count": 25,
   "id": "a2708cf3",
   "metadata": {},
   "outputs": [
    {
     "name": "stdout",
     "output_type": "stream",
     "text": [
      "hello world\n"
     ]
    }
   ],
   "source": [
    "## Convert all the element of the string to Lower case..!!\n",
    "print (s.lower())\n"
   ]
  },
  {
   "cell_type": "code",
   "execution_count": 28,
   "id": "8fa01073",
   "metadata": {},
   "outputs": [
    {
     "name": "stdout",
     "output_type": "stream",
     "text": [
      "My name is Einsten, my age is 22, and it is True that I am married\n"
     ]
    }
   ],
   "source": [
    "name = \"Einsten\"\n",
    "age = 22\n",
    "married = True\n",
    "\n",
    "print (\"My name is %s, my age is %s, and it is %s that I am married\" % (name, age, married))"
   ]
  },
  {
   "cell_type": "code",
   "execution_count": 29,
   "id": "3f2b12cc",
   "metadata": {},
   "outputs": [
    {
     "name": "stdout",
     "output_type": "stream",
     "text": [
      "My name is Einsten, my age is 22, and it is True that I am married\n"
     ]
    }
   ],
   "source": [
    "print (\"My name is {}, my age is {}, and it is {} that I am married\".format (name, age, married))"
   ]
  },
  {
   "cell_type": "markdown",
   "id": "e55f0383",
   "metadata": {},
   "source": [
    "# Basic Arithmetic"
   ]
  },
  {
   "cell_type": "code",
   "execution_count": 30,
   "id": "33fa0768",
   "metadata": {},
   "outputs": [
    {
     "name": "stdout",
     "output_type": "stream",
     "text": [
      "3\n"
     ]
    }
   ],
   "source": [
    "# Addition\n",
    "print (2+1)"
   ]
  },
  {
   "cell_type": "code",
   "execution_count": 31,
   "id": "6cb65190",
   "metadata": {},
   "outputs": [
    {
     "name": "stdout",
     "output_type": "stream",
     "text": [
      "1\n"
     ]
    }
   ],
   "source": [
    "# Subtraction\n",
    "print (2-1)"
   ]
  },
  {
   "cell_type": "code",
   "execution_count": 32,
   "id": "e96b0109",
   "metadata": {},
   "outputs": [
    {
     "name": "stdout",
     "output_type": "stream",
     "text": [
      "4\n"
     ]
    }
   ],
   "source": [
    "# Multiplication\n",
    "print (2*2)"
   ]
  },
  {
   "cell_type": "code",
   "execution_count": 33,
   "id": "08383c5e",
   "metadata": {},
   "outputs": [
    {
     "name": "stdout",
     "output_type": "stream",
     "text": [
      "0.75\n"
     ]
    }
   ],
   "source": [
    "# Division\n",
    "print (3/4)"
   ]
  },
  {
   "cell_type": "code",
   "execution_count": 34,
   "id": "626ecf74",
   "metadata": {},
   "outputs": [
    {
     "name": "stdout",
     "output_type": "stream",
     "text": [
      "1.5\n"
     ]
    }
   ],
   "source": [
    "print (3/2)"
   ]
  },
  {
   "cell_type": "markdown",
   "id": "73004ff1",
   "metadata": {},
   "source": [
    "# Arithmetic continued"
   ]
  },
  {
   "cell_type": "code",
   "execution_count": 35,
   "id": "d2e5999e",
   "metadata": {},
   "outputs": [
    {
     "data": {
      "text/plain": [
       "8"
      ]
     },
     "execution_count": 35,
     "metadata": {},
     "output_type": "execute_result"
    }
   ],
   "source": [
    "# Powers\n",
    "2**3"
   ]
  },
  {
   "cell_type": "code",
   "execution_count": 36,
   "id": "e225aeb8",
   "metadata": {},
   "outputs": [
    {
     "data": {
      "text/plain": [
       "105"
      ]
     },
     "execution_count": 36,
     "metadata": {},
     "output_type": "execute_result"
    }
   ],
   "source": [
    "# Order of Operations followed in Python\n",
    "2 + 10 * 10 + 3"
   ]
  },
  {
   "cell_type": "code",
   "execution_count": 37,
   "id": "313ef4e1",
   "metadata": {},
   "outputs": [
    {
     "data": {
      "text/plain": [
       "156"
      ]
     },
     "execution_count": 37,
     "metadata": {},
     "output_type": "execute_result"
    }
   ],
   "source": [
    "# Can use parenthesis to specify orders\n",
    "(2+10)*(10+3)"
   ]
  },
  {
   "cell_type": "code",
   "execution_count": null,
   "id": "bf4cfc74",
   "metadata": {},
   "outputs": [],
   "source": []
  }
 ],
 "metadata": {
  "kernelspec": {
   "display_name": "Python 3 (ipykernel)",
   "language": "python",
   "name": "python3"
  },
  "language_info": {
   "codemirror_mode": {
    "name": "ipython",
    "version": 3
   },
   "file_extension": ".py",
   "mimetype": "text/x-python",
   "name": "python",
   "nbconvert_exporter": "python",
   "pygments_lexer": "ipython3",
   "version": "3.9.7"
  }
 },
 "nbformat": 4,
 "nbformat_minor": 5
}
